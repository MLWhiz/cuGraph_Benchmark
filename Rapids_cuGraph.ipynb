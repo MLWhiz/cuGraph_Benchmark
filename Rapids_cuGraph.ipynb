{
 "cells": [
  {
   "cell_type": "markdown",
   "metadata": {
    "colab_type": "text",
    "id": "scfLT2i0MLyD"
   },
   "source": [
    "# Environment Sanity Check #"
   ]
  },
  {
   "cell_type": "code",
   "execution_count": null,
   "metadata": {
    "colab": {
     "base_uri": "https://localhost:8080/",
     "height": 306
    },
    "colab_type": "code",
    "id": "B0C8IV5TQnjN",
    "outputId": "161dc37f-4184-4f18-ff36-ad4d552e0d7b"
   },
   "outputs": [],
   "source": [
    "!nvidia-smi"
   ]
  },
  {
   "cell_type": "code",
   "execution_count": 1,
   "metadata": {
    "colab": {},
    "colab_type": "code",
    "id": "Cwf2rRe1dkue"
   },
   "outputs": [],
   "source": [
    "import cugraph\n",
    "import cudf\n",
    "import pandas as pd\n",
    "import numpy as np\n",
    "import networkx as nx\n",
    "\n",
    "import plotly_express as px\n",
    "%matplotlib inline"
   ]
  },
  {
   "cell_type": "markdown",
   "metadata": {
    "colab_type": "text",
    "id": "9oOCJ4NYMjY7"
   },
   "source": [
    "# 1. Connected Components\n",
    "\n",
    "We first start by creating a list of edges along with the distances which we will add as the weight of the edge:\n"
   ]
  },
  {
   "cell_type": "code",
   "execution_count": null,
   "metadata": {
    "colab": {},
    "colab_type": "code",
    "id": "FfUz0pYw6VKc"
   },
   "outputs": [],
   "source": [
    "edgelist = [['Mannheim', 'Frankfurt', 85], ['Mannheim', 'Karlsruhe', 80], ['Erfurt', 'Wurzburg', 186], ['Munchen', 'Numberg', 167], ['Munchen', 'Augsburg', 84], ['Munchen', 'Kassel', 502], ['Numberg', 'Stuttgart', 183], ['Numberg', 'Wurzburg', 103], ['Numberg', 'Munchen', 167], ['Stuttgart', 'Numberg', 183], ['Augsburg', 'Munchen', 84], ['Augsburg', 'Karlsruhe', 250], ['Kassel', 'Munchen', 502], ['Kassel', 'Frankfurt', 173], ['Frankfurt', 'Mannheim', 85], ['Frankfurt', 'Wurzburg', 217], ['Frankfurt', 'Kassel', 173], ['Wurzburg', 'Numberg', 103], ['Wurzburg', 'Erfurt', 186], ['Wurzburg', 'Frankfurt', 217], ['Karlsruhe', 'Mannheim', 80], ['Karlsruhe', 'Augsburg', 250],[\"Mumbai\", \"Delhi\",400],[\"Delhi\", \"Kolkata\",500],[\"Kolkata\", \"Bangalore\",600],[\"TX\", \"NY\",1200],[\"ALB\", \"NY\",800]]"
   ]
  },
  {
   "cell_type": "markdown",
   "metadata": {
    "colab_type": "text",
    "id": "xlcvGMvHdfT7"
   },
   "source": [
    "Now we want to find out distinct continents and their cities from this graph.\n",
    "First, we will need to create a cudf dataframe with edges in it. Right now I am creating a pandas dataframe and converting it to cudf dataframe but in a real-life scenario, we will read from a csv file of edges."
   ]
  },
  {
   "cell_type": "code",
   "execution_count": null,
   "metadata": {
    "colab": {},
    "colab_type": "code",
    "id": "wSCfetxD6VeI"
   },
   "outputs": [],
   "source": [
    "# create a pandas dataframe of edges\n",
    "pandas_df = pd.DataFrame(edgelist)\n",
    "pandas_df.columns = ['src','dst','distance']\n",
    "# create a pandas dataframe of reversed edges as we have a undirected graph\n",
    "rev_pandas_df = pandas_df.copy()\n",
    "rev_pandas_df.columns = ['dst','src','distance']\n",
    "rev_pandas_df = rev_pandas_df[['src','dst','distance']]\n",
    "# concat all edges\n",
    "pandas_df = pd.concat([pandas_df,rev_pandas_df])"
   ]
  },
  {
   "cell_type": "markdown",
   "metadata": {
    "colab_type": "text",
    "id": "KRDyeey7eEti"
   },
   "source": [
    "Now our pandas df contains edges in both directions. And our node names in src and dst columns are in str format. Apparently, cuGraph doesn't like that and only works with integer node IDs."
   ]
  },
  {
   "cell_type": "code",
   "execution_count": null,
   "metadata": {
    "colab": {},
    "colab_type": "code",
    "id": "MCggEWi86Vh4"
   },
   "outputs": [],
   "source": [
    "# CuGraph works with only integer node IDS\n",
    "unique_destinations = set()\n",
    "for [src,dst,dis] in edgelist:\n",
    "  unique_destinations.add(src)\n",
    "  unique_destinations.add(dst)\n",
    "    \n",
    "# create a map of city and a unique id\n",
    "city_id_dict = {}\n",
    "for i, city in enumerate(unique_destinations):\n",
    "  city_id_dict[city]=i\n",
    "# create 2 columns that contain the integer IDs for src and dst\n",
    "pandas_df['src_int'] = pandas_df['src'].apply(lambda x : city_id_dict[x])\n",
    "pandas_df['dst_int'] = pandas_df['dst'].apply(lambda x : city_id_dict[x])"
   ]
  },
  {
   "cell_type": "markdown",
   "metadata": {
    "colab_type": "text",
    "id": "5WDkzHYeeetE"
   },
   "source": [
    "Now comes the main part that we should focus on:"
   ]
  },
  {
   "cell_type": "code",
   "execution_count": null,
   "metadata": {
    "colab": {
     "base_uri": "https://localhost:8080/",
     "height": 576
    },
    "colab_type": "code",
    "id": "F_eEwiAq9WDY",
    "outputId": "b4cfc30d-efa5-4e39-ab69-fcf77d58c9cc"
   },
   "outputs": [],
   "source": [
    "cuda_g = cudf.DataFrame.from_pandas(pandas_df)\n",
    "# cugraph needs node IDs to be int32 and weights to be float\n",
    "cuda_g['src_int'] = cuda_g['src_int'].astype(np.int32)\n",
    "cuda_g['dst_int'] = cuda_g['dst_int'].astype(np.int32)\n",
    "cuda_g['distance'] = cuda_g['distance'].astype(np.float)\n",
    "G = cugraph.Graph()\n",
    "G.add_edge_list(cuda_g[\"src_int\"],cuda_g[\"dst_int\"] , cuda_g['distance'])\n",
    "cugraph.strongly_connected_components(G)"
   ]
  },
  {
   "cell_type": "markdown",
   "metadata": {
    "colab_type": "text",
    "id": "3zTonlk0eqsd"
   },
   "source": [
    "# 2. Shortest Path"
   ]
  },
  {
   "cell_type": "markdown",
   "metadata": {
    "colab_type": "text",
    "id": "27IDiaDSexln"
   },
   "source": [
    "We already have our Graph as before. We can find the shortest distance from a source node to all nodes in the graph."
   ]
  },
  {
   "cell_type": "code",
   "execution_count": null,
   "metadata": {
    "colab": {
     "base_uri": "https://localhost:8080/",
     "height": 359
    },
    "colab_type": "code",
    "id": "9zxaq6-u-amm",
    "outputId": "7c1e95da-ae82-490b-b4ff-e63847dc1a86"
   },
   "outputs": [],
   "source": [
    "# get distances from source node 1\n",
    "distances = cugraph.sssp(G, 1)\n",
    "# filter infinite distances\n",
    "distances = cugraph.traversal.filter_unreachable(distances)\n",
    "distances"
   ]
  },
  {
   "cell_type": "code",
   "execution_count": null,
   "metadata": {
    "colab": {
     "base_uri": "https://localhost:8080/",
     "height": 34
    },
    "colab_type": "code",
    "id": "L1Hg2Tqr6VZ2",
    "outputId": "ca7d45e9-a524-443f-d2f3-959a4d99e0c6"
   },
   "outputs": [],
   "source": [
    "#Getting the path is as simple as:\n",
    "\n",
    "# 1 to 15\n",
    "\n",
    "path = []\n",
    "\n",
    "dest = 15\n",
    "while dest != 1:\n",
    "   dest = distances[distances['vertex'] == dest]['predecessor'].values[0]\n",
    "   path.append(dest)\n",
    "print(path[::-1])"
   ]
  },
  {
   "cell_type": "markdown",
   "metadata": {
    "colab_type": "text",
    "id": "qUfttlvDffRw"
   },
   "source": [
    "# 3. Pagerank"
   ]
  },
  {
   "cell_type": "code",
   "execution_count": null,
   "metadata": {
    "colab": {},
    "colab_type": "code",
    "id": "PRygONnwBpGn"
   },
   "outputs": [],
   "source": [
    "# Loading the file as cudf\n",
    "fb_cudf = cudf.read_csv(\"facebook_combined.txt\", sep=' ', names=['src', 'dst'],dtype =['int32','int32'])"
   ]
  },
  {
   "cell_type": "code",
   "execution_count": null,
   "metadata": {
    "colab": {},
    "colab_type": "code",
    "id": "O2fc7tYMibEY"
   },
   "outputs": [],
   "source": [
    "# adding reverse edges also\n",
    "fb_cudf = cugraph.symmetrize_df(fb_cudf, 'src', 'dst')"
   ]
  },
  {
   "cell_type": "code",
   "execution_count": null,
   "metadata": {
    "colab": {},
    "colab_type": "code",
    "id": "G-2uRo1ViET8"
   },
   "outputs": [],
   "source": [
    "# creating the graph\n",
    "fb_G = cugraph.Graph()\n",
    "fb_G.add_edge_list(fb_cudf[\"src\"],fb_cudf[\"dst\"])"
   ]
  },
  {
   "cell_type": "code",
   "execution_count": null,
   "metadata": {
    "colab": {},
    "colab_type": "code",
    "id": "nGeonqr2h-Fj"
   },
   "outputs": [],
   "source": [
    "# Call cugraph.pagerank to get the pagerank scores\n",
    "fb_pagerank = cugraph.pagerank(fb_G)"
   ]
  },
  {
   "cell_type": "code",
   "execution_count": null,
   "metadata": {
    "colab": {
     "base_uri": "https://localhost:8080/",
     "height": 204
    },
    "colab_type": "code",
    "id": "WRjkEII41Sdk",
    "outputId": "5e7ae3b4-ada5-4ed7-91bc-dcdba3c4a545"
   },
   "outputs": [],
   "source": [
    "fb_pagerank.sort_values(by='pagerank',ascending=False).head()"
   ]
  },
  {
   "cell_type": "markdown",
   "metadata": {
    "colab_type": "text",
    "id": "Q8JmP9WG4QNv"
   },
   "source": [
    "# 4. Link Prediction"
   ]
  },
  {
   "cell_type": "code",
   "execution_count": null,
   "metadata": {
    "colab": {},
    "colab_type": "code",
    "id": "Jxr7Yxgh4cGM"
   },
   "outputs": [],
   "source": [
    "max_vertex_id = fb_pagerank['vertex'].max()"
   ]
  },
  {
   "cell_type": "code",
   "execution_count": null,
   "metadata": {
    "colab": {
     "base_uri": "https://localhost:8080/",
     "height": 34
    },
    "colab_type": "code",
    "id": "yOaPtpTq4hTc",
    "outputId": "aad85872-ef4c-4b35-b8f2-5acae8c227a5"
   },
   "outputs": [],
   "source": [
    "max_vertex_id"
   ]
  },
  {
   "cell_type": "code",
   "execution_count": null,
   "metadata": {
    "colab": {},
    "colab_type": "code",
    "id": "uMsCRgncSjoT"
   },
   "outputs": [],
   "source": [
    "data = []\n",
    "for x in range(0,max_vertex_id+1):\n",
    "  for y in range(0,max_vertex_id+1):\n",
    "    data.append([x,y])"
   ]
  },
  {
   "cell_type": "code",
   "execution_count": null,
   "metadata": {
    "colab": {},
    "colab_type": "code",
    "id": "L-NU2pLxS40x"
   },
   "outputs": [],
   "source": [
    "cudf_nodes =cudf.from_pandas(pd.DataFrame(data))\n",
    "\n",
    "cudf_nodes.columns = ['src','dst']"
   ]
  },
  {
   "cell_type": "code",
   "execution_count": null,
   "metadata": {
    "colab": {},
    "colab_type": "code",
    "id": "2qos2d2KAyxX"
   },
   "outputs": [],
   "source": [
    "cudf_nodes['src'] = cudf_nodes['src'].astype(np.int32)\n",
    "cudf_nodes['dst'] = cudf_nodes['dst'].astype(np.int32)"
   ]
  },
  {
   "cell_type": "code",
   "execution_count": null,
   "metadata": {
    "colab": {},
    "colab_type": "code",
    "id": "X3MwIaSsAy0M"
   },
   "outputs": [],
   "source": [
    "jaccard_coeff_between_nodes = cugraph.link_prediction.jaccard(fb_G,cudf_nodes[\"src\"],cudf_nodes[\"dst\"])"
   ]
  },
  {
   "cell_type": "code",
   "execution_count": null,
   "metadata": {
    "colab": {
     "base_uri": "https://localhost:8080/",
     "height": 204
    },
    "colab_type": "code",
    "id": "BFXbDvxZ4-fy",
    "outputId": "02a3048f-c2d7-48df-85c4-804a48b0c18d"
   },
   "outputs": [],
   "source": [
    "jaccard_coeff_between_nodes.head()"
   ]
  },
  {
   "cell_type": "code",
   "execution_count": null,
   "metadata": {
    "colab": {
     "base_uri": "https://localhost:8080/",
     "height": 34
    },
    "colab_type": "code",
    "id": "d_zThjvS7CGQ",
    "outputId": "f35c2115-6480-4c08-ac91-c2bc75faf878"
   },
   "outputs": [],
   "source": [
    "len(jaccard_coeff_between_nodes)"
   ]
  },
  {
   "cell_type": "code",
   "execution_count": null,
   "metadata": {
    "colab": {},
    "colab_type": "code",
    "id": "oNIkYNAYAy3D"
   },
   "outputs": [],
   "source": [
    "jaccard_coeff_between_nodes=jaccard_coeff_between_nodes[jaccard_coeff_between_nodes['source']!=jaccard_coeff_between_nodes['destination']]"
   ]
  },
  {
   "cell_type": "code",
   "execution_count": null,
   "metadata": {
    "colab": {},
    "colab_type": "code",
    "id": "__aob65C7M9q"
   },
   "outputs": [],
   "source": [
    "fb_cudf.columns = ['source',\t'destination']"
   ]
  },
  {
   "cell_type": "code",
   "execution_count": null,
   "metadata": {
    "colab": {},
    "colab_type": "code",
    "id": "Eyees3sU9acw"
   },
   "outputs": [],
   "source": [
    "fb_cudf['edgeflag']=1"
   ]
  },
  {
   "cell_type": "code",
   "execution_count": null,
   "metadata": {
    "colab": {},
    "colab_type": "code",
    "id": "Gn7U5-dc5Dpb"
   },
   "outputs": [],
   "source": [
    "jaccard_coeff_joined_with_edges = jaccard_coeff_between_nodes.merge(fb_cudf,on= ['source',\t'destination'],how='left')\n"
   ]
  },
  {
   "cell_type": "code",
   "execution_count": null,
   "metadata": {
    "colab": {
     "base_uri": "https://localhost:8080/",
     "height": 204
    },
    "colab_type": "code",
    "id": "b95M2g63Ay52",
    "outputId": "671bf80c-6a9c-4db2-e2e7-19b91ff53de0"
   },
   "outputs": [],
   "source": [
    "jaccard_coeff_joined_with_edges.head()"
   ]
  },
  {
   "cell_type": "code",
   "execution_count": null,
   "metadata": {
    "colab": {},
    "colab_type": "code",
    "id": "k9e2cSw8Ay9k"
   },
   "outputs": [],
   "source": [
    "# We just want to see the jaccard coeff of new edges\n",
    "new_edges_jaccard_coeff = jaccard_coeff_joined_with_edges[jaccard_coeff_joined_with_edges['edgeflag']!=1]"
   ]
  },
  {
   "cell_type": "code",
   "execution_count": null,
   "metadata": {
    "colab": {
     "base_uri": "https://localhost:8080/",
     "height": 1000
    },
    "colab_type": "code",
    "id": "tec3BVFbTzzN",
    "outputId": "e1fd9e25-23b2-4d9e-f684-45d0a2c300c4"
   },
   "outputs": [],
   "source": [
    "# Here are the predicted edges from our metric.\n",
    "new_edges_jaccard_coeff.sort_values(by='jaccard_coeff',ascending=False).head(50)"
   ]
  },
  {
   "cell_type": "markdown",
   "metadata": {
    "colab_type": "text",
    "id": "z98SGVl5-ZnM"
   },
   "source": [
    "# 5. Basic Measures"
   ]
  },
  {
   "cell_type": "code",
   "execution_count": null,
   "metadata": {
    "colab": {
     "base_uri": "https://localhost:8080/",
     "height": 51
    },
    "colab_type": "code",
    "id": "8DUbhp0p-ZVh",
    "outputId": "08a4991b-0bff-4bf7-d1a1-ff605f1fe46c"
   },
   "outputs": [],
   "source": [
    "print(\"Number of Nodes\",fb_G.number_of_nodes())\n",
    "print(\"Number of Edges\",fb_G.number_of_edges())"
   ]
  },
  {
   "cell_type": "code",
   "execution_count": null,
   "metadata": {
    "colab": {
     "base_uri": "https://localhost:8080/",
     "height": 204
    },
    "colab_type": "code",
    "id": "EvH5xzWx_H7c",
    "outputId": "68cbbf13-548d-420f-a1ef-8c0513162cad"
   },
   "outputs": [],
   "source": [
    "# Compute the indegree and outdegree to the node. In a directed graph this corresponds to no of followers and no of follows\n",
    "fb_G.degrees().head()"
   ]
  },
  {
   "cell_type": "markdown",
   "metadata": {
    "colab": {},
    "colab_type": "code",
    "id": "jj2yAJMU_Ocn"
   },
   "source": [
    "# Benchmarking"
   ]
  },
  {
   "cell_type": "markdown",
   "metadata": {},
   "source": [
    "## A. On Facebook Data"
   ]
  },
  {
   "cell_type": "code",
   "execution_count": null,
   "metadata": {},
   "outputs": [],
   "source": [
    "# Creating graphs for Benchmarking using cuDF and networkx\n",
    "# graphX\n",
    "# Loading the file as cudf\n",
    "\n",
    "fb_cudf = cudf.read_csv(\"facebook_combined.txt\", sep=' ', names=['src', 'dst'],dtype =['int32','int32'])"
   ]
  },
  {
   "cell_type": "code",
   "execution_count": null,
   "metadata": {},
   "outputs": [],
   "source": [
    "fb_cudf = cugraph.symmetrize_df(fb_cudf, 'src', 'dst')"
   ]
  },
  {
   "cell_type": "code",
   "execution_count": null,
   "metadata": {},
   "outputs": [],
   "source": [
    "fb_G = cugraph.Graph()\n",
    "fb_G.add_edge_list(fb_cudf[\"src\"],fb_cudf[\"dst\"])"
   ]
  },
  {
   "cell_type": "code",
   "execution_count": null,
   "metadata": {},
   "outputs": [],
   "source": [
    "# reading the dataset\n",
    "fb = nx.read_edgelist('facebook_combined.txt', create_using = nx.Graph(), nodetype = int)"
   ]
  },
  {
   "cell_type": "markdown",
   "metadata": {},
   "source": [
    "### 1. Connected Components"
   ]
  },
  {
   "cell_type": "code",
   "execution_count": null,
   "metadata": {},
   "outputs": [],
   "source": [
    "%%timeit\n",
    "ccs = []\n",
    "for i, x in enumerate(nx.connected_components(fb)):\n",
    "    ccs.append(x)"
   ]
  },
  {
   "cell_type": "code",
   "execution_count": null,
   "metadata": {},
   "outputs": [],
   "source": [
    "%%timeit\n",
    "ccs = cugraph.weakly_connected_components(fb_G)"
   ]
  },
  {
   "cell_type": "markdown",
   "metadata": {},
   "source": [
    "### 2. Shortest Path"
   ]
  },
  {
   "cell_type": "code",
   "execution_count": null,
   "metadata": {},
   "outputs": [],
   "source": [
    "%%timeit\n",
    "nx.single_source_shortest_path(fb,1)"
   ]
  },
  {
   "cell_type": "code",
   "execution_count": null,
   "metadata": {},
   "outputs": [],
   "source": [
    "%%timeit\n",
    "distances = cugraph.sssp(fb_G, 1)"
   ]
  },
  {
   "cell_type": "markdown",
   "metadata": {},
   "source": [
    "### 3. Pagerank"
   ]
  },
  {
   "cell_type": "code",
   "execution_count": null,
   "metadata": {},
   "outputs": [],
   "source": [
    "%%timeit\n",
    "pageranks = nx.pagerank(fb)"
   ]
  },
  {
   "cell_type": "code",
   "execution_count": null,
   "metadata": {},
   "outputs": [],
   "source": [
    "%%timeit\n",
    "fb_pagerank = cugraph.pagerank(fb_G)"
   ]
  },
  {
   "cell_type": "markdown",
   "metadata": {},
   "source": [
    "## B. On Twitter Data"
   ]
  },
  {
   "cell_type": "code",
   "execution_count": 2,
   "metadata": {},
   "outputs": [],
   "source": [
    "# Creating graphs for Benchmarking using cuDF and networkx\n",
    "# graphX\n",
    "# Loading the file as cudf\n",
    "\n",
    "twitter_cudf = cudf.read_csv(\"twitter_combined.txt\", sep=' ', names=['src', 'dst'],dtype =['int32','int32'])"
   ]
  },
  {
   "cell_type": "code",
   "execution_count": 3,
   "metadata": {},
   "outputs": [],
   "source": [
    "twitter_cudf = cugraph.symmetrize_df(twitter_cudf, 'src', 'dst')"
   ]
  },
  {
   "cell_type": "code",
   "execution_count": 4,
   "metadata": {},
   "outputs": [],
   "source": [
    "twitter_cudf['src_int'], twitter_cudf['dst_int'], number = cugraph.renumber( twitter_cudf['src'], twitter_cudf['dst'] )"
   ]
  },
  {
   "cell_type": "code",
   "execution_count": 5,
   "metadata": {},
   "outputs": [],
   "source": [
    "twitter_G = cugraph.Graph()\n",
    "twitter_G.add_edge_list(twitter_cudf[\"src_int\"],twitter_cudf[\"dst_int\"])"
   ]
  },
  {
   "cell_type": "code",
   "execution_count": null,
   "metadata": {},
   "outputs": [],
   "source": [
    "# reading the dataset\n",
    "twitter = nx.read_edgelist('twitter_combined.txt', create_using = nx.Graph(), nodetype = int)"
   ]
  },
  {
   "cell_type": "markdown",
   "metadata": {},
   "source": [
    "### 1. Connected Components"
   ]
  },
  {
   "cell_type": "code",
   "execution_count": null,
   "metadata": {},
   "outputs": [],
   "source": [
    "%%timeit\n",
    "ccs = []\n",
    "for i, x in enumerate(nx.connected_components(twitter)):\n",
    "    ccs.append(x)"
   ]
  },
  {
   "cell_type": "code",
   "execution_count": 6,
   "metadata": {},
   "outputs": [
    {
     "name": "stdout",
     "output_type": "stream",
     "text": [
      "33.9 ms ± 176 µs per loop (mean ± std. dev. of 7 runs, 10 loops each)\n"
     ]
    }
   ],
   "source": [
    "%%timeit\n",
    "ccs = cugraph.weakly_connected_components(twitter_G)"
   ]
  },
  {
   "cell_type": "markdown",
   "metadata": {},
   "source": [
    "### 2. Shortest Paths"
   ]
  },
  {
   "cell_type": "code",
   "execution_count": null,
   "metadata": {},
   "outputs": [],
   "source": [
    "%%timeit\n",
    "nx.single_source_shortest_path(twitter,35389442)"
   ]
  },
  {
   "cell_type": "code",
   "execution_count": null,
   "metadata": {},
   "outputs": [],
   "source": [
    "%%timeit\n",
    "distances = cugraph.sssp(twitter_G, 1)"
   ]
  },
  {
   "cell_type": "markdown",
   "metadata": {},
   "source": [
    "### 3. Pagerank"
   ]
  },
  {
   "cell_type": "code",
   "execution_count": null,
   "metadata": {},
   "outputs": [],
   "source": [
    "%%time\n",
    "pageranks = nx.pagerank(fb)"
   ]
  },
  {
   "cell_type": "code",
   "execution_count": null,
   "metadata": {},
   "outputs": [],
   "source": [
    "%%timeit\n",
    "fb_pagerank = cugraph.pagerank(fb_G)"
   ]
  },
  {
   "cell_type": "markdown",
   "metadata": {},
   "source": [
    "## C. Google Plus Data"
   ]
  },
  {
   "cell_type": "code",
   "execution_count": 7,
   "metadata": {},
   "outputs": [],
   "source": [
    "# reading the dataset\n",
    "gplus = nx.read_edgelist('gplus_combined.txt', create_using = nx.Graph(), nodetype = int)"
   ]
  },
  {
   "cell_type": "code",
   "execution_count": 8,
   "metadata": {},
   "outputs": [],
   "source": [
    "pd_gplus_df = pd.read_csv(\"gplus_combined.txt\", sep=' ', names=['src', 'dst'])\n",
    "\n",
    "nodes = set(list(pd_gplus_df['src'].unique()) + list(pd_gplus_df['dst'].unique()))\n",
    "\n",
    "nodes_int_dict = {}\n",
    "for i,node in enumerate(nodes):\n",
    "    nodes_int_dict[node]=i\n",
    "    \n",
    "\n",
    "pd_gplus_df['src_int'] = pd_gplus_df['src'].apply(lambda x : nodes_int_dict[x])\n",
    "pd_gplus_df['dst_int'] = pd_gplus_df['dst'].apply(lambda x : nodes_int_dict[x])"
   ]
  },
  {
   "cell_type": "code",
   "execution_count": 9,
   "metadata": {},
   "outputs": [],
   "source": [
    "gplus_cudf = cudf.from_pandas(pd_gplus_df)\n",
    "gplus_cudf['src_int'] = gplus_cudf['src_int'].astype(np.int32)\n",
    "gplus_cudf['dst_int'] = gplus_cudf['dst_int'].astype(np.int32)"
   ]
  },
  {
   "cell_type": "code",
   "execution_count": 10,
   "metadata": {},
   "outputs": [],
   "source": [
    "gplus_cudf = cugraph.symmetrize_df(gplus_cudf, 'src_int', 'dst_int')"
   ]
  },
  {
   "cell_type": "code",
   "execution_count": 11,
   "metadata": {},
   "outputs": [],
   "source": [
    "gplus_G = cugraph.Graph()\n",
    "gplus_G.add_edge_list(gplus_cudf[\"src_int\"],gplus_cudf[\"dst_int\"])"
   ]
  },
  {
   "cell_type": "markdown",
   "metadata": {},
   "source": [
    "### 1. Connected Components"
   ]
  },
  {
   "cell_type": "code",
   "execution_count": null,
   "metadata": {},
   "outputs": [],
   "source": [
    "%%time\n",
    "ccs = []\n",
    "for i, x in enumerate(nx.connected_components(gplus)):\n",
    "    ccs.append(x)"
   ]
  },
  {
   "cell_type": "code",
   "execution_count": 12,
   "metadata": {},
   "outputs": [
    {
     "name": "stdout",
     "output_type": "stream",
     "text": [
      "CPU times: user 1.74 s, sys: 668 ms, total: 2.41 s\n",
      "Wall time: 2.4 s\n"
     ]
    }
   ],
   "source": [
    "%%time\n",
    "ccs = cugraph.weakly_connected_components(gplus_G)"
   ]
  },
  {
   "cell_type": "markdown",
   "metadata": {},
   "source": [
    "### 2. Shortest Paths"
   ]
  },
  {
   "cell_type": "code",
   "execution_count": null,
   "metadata": {},
   "outputs": [],
   "source": [
    "%%time\n",
    "ssp = nx.single_source_shortest_path(gplus,109247306373593947755)"
   ]
  },
  {
   "cell_type": "code",
   "execution_count": null,
   "metadata": {},
   "outputs": [],
   "source": [
    "%%time\n",
    "ssp = cugraph.sssp(gplus_G, 0)"
   ]
  },
  {
   "cell_type": "markdown",
   "metadata": {
    "jupyter": {
     "outputs_hidden": true
    }
   },
   "source": [
    "### 3. Pagerank"
   ]
  },
  {
   "cell_type": "code",
   "execution_count": null,
   "metadata": {},
   "outputs": [],
   "source": [
    "%%time\n",
    "pageranks = nx.pagerank(gplus)"
   ]
  },
  {
   "cell_type": "code",
   "execution_count": null,
   "metadata": {},
   "outputs": [],
   "source": [
    "%%time\n",
    "fb_pagerank = cugraph.pagerank(gplus_G)"
   ]
  },
  {
   "cell_type": "markdown",
   "metadata": {},
   "source": [
    "## Results"
   ]
  },
  {
   "cell_type": "markdown",
   "metadata": {},
   "source": [
    "Connected Components"
   ]
  },
  {
   "cell_type": "code",
   "execution_count": null,
   "metadata": {},
   "outputs": [],
   "source": [
    "results = pd.read_excel(\"results.xlsx\")"
   ]
  },
  {
   "cell_type": "code",
   "execution_count": null,
   "metadata": {},
   "outputs": [],
   "source": [
    "results.head()"
   ]
  },
  {
   "cell_type": "code",
   "execution_count": null,
   "metadata": {},
   "outputs": [],
   "source": [
    "px.bar(results,x ='Dataset',y='Time',color = 'Module',facet_row = 'Algorithm')"
   ]
  },
  {
   "cell_type": "code",
   "execution_count": null,
   "metadata": {},
   "outputs": [],
   "source": []
  }
 ],
 "metadata": {
  "accelerator": "GPU",
  "colab": {
   "collapsed_sections": [],
   "name": "Rapids-cuGraph.ipynb",
   "provenance": [],
   "toc_visible": true,
   "version": "0.3.2"
  },
  "kernelspec": {
   "display_name": "Python 3",
   "language": "python",
   "name": "python3"
  },
  "language_info": {
   "codemirror_mode": {
    "name": "ipython",
    "version": 3
   },
   "file_extension": ".py",
   "mimetype": "text/x-python",
   "name": "python",
   "nbconvert_exporter": "python",
   "pygments_lexer": "ipython3",
   "version": "3.7.4"
  }
 },
 "nbformat": 4,
 "nbformat_minor": 4
}
